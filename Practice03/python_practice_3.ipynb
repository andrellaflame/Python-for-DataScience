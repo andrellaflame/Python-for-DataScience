{
 "nbformat": 4,
 "nbformat_minor": 0,
 "metadata": {
  "colab": {
   "provenance": []
  },
  "kernelspec": {
   "name": "python3",
   "language": "python",
   "display_name": "Python 3 (ipykernel)"
  },
  "language_info": {
   "name": "python"
  }
 },
 "cells": [
  {
   "cell_type": "markdown",
   "source": [
    "# I. Оператори порівняння та логічні оператори. Умови."
   ],
   "metadata": {
    "id": "qDEi2Pi-4yUC"
   }
  },
  {
   "cell_type": "markdown",
   "source": [
    "1. Створіть цілочисленну змінну зі своїм щасливим або улюбленим числом. Напишіть код, який би автоматизовував наступну задачу.\n",
    "\n",
    "Якщо число парне, помножте його на 2 та виведіть результат на екран.\n",
    "\n",
    "Але якщо число непарне, помножте його на 3 та додайте 1 і виведіть на екран."
   ],
   "metadata": {
    "id": "3v8D4Dkm43Ua"
   }
  },
  {
   "cell_type": "code",
   "execution_count": 45,
   "metadata": {
    "id": "dlVjc-Nu4bmb",
    "ExecuteTime": {
     "end_time": "2024-02-06T11:09:23.284689Z",
     "start_time": "2024-02-06T11:09:23.274260Z"
    }
   },
   "outputs": [
    {
     "name": "stdout",
     "output_type": "stream",
     "text": [
      "24\n"
     ]
    }
   ],
   "source": [
    "my_number = 12\n",
    "result = my_number * 2 if my_number % 2 == 0 else my_number * 3 + 1\n",
    "\n",
    "print(result)"
   ]
  },
  {
   "cell_type": "markdown",
   "source": [
    "2. Створіть змінну, що посилається на список. Якщо список пустий, додайте будь-який елемент у кінець списку. Якщо ж ні, то нічого не робіть."
   ],
   "metadata": {
    "id": "H669P0QK5BI_"
   }
  },
  {
   "cell_type": "code",
   "source": [
    "list1 = []\n",
    "\n",
    "print(f\"list1: {list1}\")\n",
    "if not list1:\n",
    "    list1.append(\"apple\")\n",
    "\n",
    "print(f\"list1: {list1}\")"
   ],
   "metadata": {
    "id": "ecWlfra45f6E",
    "ExecuteTime": {
     "end_time": "2024-02-06T10:11:26.548861Z",
     "start_time": "2024-02-06T10:11:26.537506Z"
    }
   },
   "execution_count": 6,
   "outputs": [
    {
     "name": "stdout",
     "output_type": "stream",
     "text": [
      "list1: []\n",
      "list1: ['apple']\n"
     ]
    }
   ]
  },
  {
   "cell_type": "markdown",
   "source": [
    "3. Створіть рядок зі своїм імʼям латинкою. Напишіть код, який би автоматизовував наступну задачу.\n",
    "\n",
    "Якщо в імені є літера \"а\"\n",
    " або \"i\", Виведіть на екран повідомлення \"A or I is in the name\".\n",
    "\n",
    "\n",
    "\n",
    "Якщо в імені є літери \"o\" та \"n\", Виведіть на екран повідомлення \"O and N is in the name\".\n",
    "\n",
    "Також якщо в імені немає літери \"о\", але є \"n\", Виведіть на екран повідомлення \"Only N is in the name\".\n",
    "\n",
    "В решті випадків виведіть на екран повідомлення \"There is no N in the name, but there might be O\".\n",
    "\n",
    "Зверніть увагу, що, наприклад, для імені \"Antonina\" буде виведено два повідомлення."
   ],
   "metadata": {
    "id": "h9Y3cMUd5h85"
   }
  },
  {
   "cell_type": "code",
   "source": [
    "name = \"Andrii\"\n",
    "\n",
    "if 'a' in name.lower() or 'i' in name.lower():\n",
    "    print(\"A or I is in the name\")\n",
    "\n",
    "if 'o' in name.lower() and 'n' in name.lower():\n",
    "    print(\"O and N is in the name\")\n",
    "elif 'o' not in name and 'n' in name:\n",
    "    print(\"Only N is in the name\")\n",
    "else:\n",
    "    print(\"There is no N in the name, but there might be O\")\n"
   ],
   "metadata": {
    "id": "bUH4LUx35u52",
    "ExecuteTime": {
     "end_time": "2024-02-06T10:17:27.306200Z",
     "start_time": "2024-02-06T10:17:27.294334Z"
    }
   },
   "execution_count": 8,
   "outputs": [
    {
     "name": "stdout",
     "output_type": "stream",
     "text": [
      "A or I is in the name\n",
      "O and N is in the name\n"
     ]
    }
   ]
  },
  {
   "cell_type": "markdown",
   "source": [
    "# II. Comprehensions."
   ],
   "metadata": {
    "id": "wPCXJv4354cU"
   }
  },
  {
   "cell_type": "markdown",
   "source": [
    "4. Створіть список, використовуючи if (не if-else), range та comprehension."
   ],
   "metadata": {
    "id": "jULLW5jN55Pw"
   }
  },
  {
   "cell_type": "code",
   "source": [
    "list2 = [str(x) + '-st number' for x in range(10) if x % 2 != 0]\n",
    "print(f\"list2: {list2}\")"
   ],
   "metadata": {
    "id": "mlZalnVC6W3F",
    "ExecuteTime": {
     "end_time": "2024-02-06T10:35:37.266048Z",
     "start_time": "2024-02-06T10:35:37.206793Z"
    }
   },
   "execution_count": 14,
   "outputs": [
    {
     "name": "stdout",
     "output_type": "stream",
     "text": [
      "list2: ['1-st number', '3-st number', '5-st number', '7-st number', '9-st number']\n"
     ]
    }
   ]
  },
  {
   "cell_type": "markdown",
   "source": [
    "5. Створіть словник, використовуючи dict comprehension, що містить if else. Коли слід використовувати comprehensions, а коли їх слід уникати?"
   ],
   "metadata": {
    "id": "LqhEQ4JW6XcC"
   }
  },
  {
   "cell_type": "code",
   "source": [
    "dict1 = {x: x ** 2 if x % 2 == 0 else x ** 3 for x in range(10)} # even elements are stored with value ^2 and ^3 if odd\n",
    "print(f\"dict1: {dict1}\") "
   ],
   "metadata": {
    "id": "1yVaFbOs6hta",
    "ExecuteTime": {
     "end_time": "2024-02-06T10:24:55.756751Z",
     "start_time": "2024-02-06T10:24:55.746325Z"
    }
   },
   "execution_count": 13,
   "outputs": [
    {
     "name": "stdout",
     "output_type": "stream",
     "text": [
      "dict1: {0: 0, 1: 1, 2: 4, 3: 27, 4: 16, 5: 125, 6: 36, 7: 343, 8: 64, 9: 729}\n"
     ]
    }
   ]
  },
  {
   "cell_type": "markdown",
   "source": [
    "Коли використовувати:\n",
    "- Необхідно створити список або іншу структуру за допомогою лаконічного запису\n",
    "- Результат comprehensions легко зрозуміти\n",
    "- Необхідно додати фільтрацію або структура створюється на основі іншої структури\n",
    "Коли уникати:\n",
    "- Результат comprehensions стає довгим і складним\n",
    "- Коли результат генералізації об‘єктів в структурі займає забагато пам‘яті"
   ],
   "metadata": {
    "id": "wbkzNhKq6hzz"
   }
  },
  {
   "cell_type": "markdown",
   "source": [
    "6. Створіть список з рядками та запишіть його у змінну. Створіть ще один список на основі попереднього, де кожен рядок буде містити тільки три перших заглавних символи. Наприклад: ['hello', 'i', 'dont', 'care'] -> ['HEL', 'I', 'DON', 'CAR']. Використання comprehensions обовʼязкове."
   ],
   "metadata": {
    "id": "ZlqB8G3G6lHP"
   }
  },
  {
   "cell_type": "code",
   "source": [
    "formatted_list2 = [x[:3].upper() for x in list2]\n",
    "# formatted_list2 = [x[:3].upper() for x in ['hello', 'i', 'dont', 'care']]\n",
    "print(f\"formatted_list2: {formatted_list2}\")"
   ],
   "metadata": {
    "id": "nw6rz0bR60VC",
    "ExecuteTime": {
     "end_time": "2024-02-06T10:37:25.855760Z",
     "start_time": "2024-02-06T10:37:25.849116Z"
    }
   },
   "execution_count": 17,
   "outputs": [
    {
     "name": "stdout",
     "output_type": "stream",
     "text": [
      "formatted_list2: ['1-S', '3-S', '5-S', '7-S', '9-S']\n"
     ]
    }
   ]
  },
  {
   "cell_type": "markdown",
   "source": [
    "# III. Цикли."
   ],
   "metadata": {
    "id": "Tj573IAH64Fz"
   }
  },
  {
   "cell_type": "markdown",
   "source": [
    "7. Продемонструйте роботу циклу while. Не можна використовувати True для запуску циклу, щоб уникнути безкінечного циклу!"
   ],
   "metadata": {
    "id": "tN_33xdE65H5"
   }
  },
  {
   "cell_type": "code",
   "source": [
    "factorial = 5\n",
    "result = 1\n",
    "\n",
    "while factorial > 1:\n",
    "    result *= factorial\n",
    "    factorial -= 1\n",
    "\n",
    "print(f\"factorial: {result}\")"
   ],
   "metadata": {
    "id": "Kd9FO6yG63P5",
    "ExecuteTime": {
     "end_time": "2024-02-06T10:40:26.527505Z",
     "start_time": "2024-02-06T10:40:26.511216Z"
    }
   },
   "execution_count": 20,
   "outputs": [
    {
     "name": "stdout",
     "output_type": "stream",
     "text": [
      "factorial: 120\n"
     ]
    }
   ]
  },
  {
   "cell_type": "markdown",
   "source": [
    "8. Напишіть програму, яка виведе на екран непарні числа в діапазоні від 0 до 20 включно."
   ],
   "metadata": {
    "id": "x2CmfZO-7pW0"
   }
  },
  {
   "cell_type": "code",
   "source": [
    "range_values = range(20)\n",
    "print(f\"range: {range_values}\")\n",
    "print(f\"odd elements:\")\n",
    "for x in range(1, len(range_values), 2):\n",
    "    print(x)"
   ],
   "metadata": {
    "id": "aCSRYA6s7tkF",
    "ExecuteTime": {
     "end_time": "2024-02-06T10:44:10.757042Z",
     "start_time": "2024-02-06T10:44:10.745247Z"
    }
   },
   "execution_count": 26,
   "outputs": [
    {
     "name": "stdout",
     "output_type": "stream",
     "text": [
      "range: range(0, 20)\n",
      "odd elements:\n",
      "1\n",
      "3\n",
      "5\n",
      "7\n",
      "9\n",
      "11\n",
      "13\n",
      "15\n",
      "17\n",
      "19\n"
     ]
    }
   ]
  },
  {
   "cell_type": "raw",
   "source": [
    "9. Створіть список з елементами булевого типу або None. Використовуючи цикли, отримайте в результаті список з кортежами, де перший елемент кортежу - індекс(ціле число), а другий елемент - відповідне значення з першого списку.\n",
    "\n",
    "Наприклад, [True, True, None, False] -> [(0, True), (1, True), (2, None), (3, False)]"
   ],
   "metadata": {
    "collapsed": false
   }
  },
  {
   "cell_type": "code",
   "outputs": [
    {
     "name": "stdout",
     "output_type": "stream",
     "text": [
      "bool_list: [True, True, None, False]\n",
      "tuple_list: [(0, True), (1, True), (2, None), (3, False)]\n"
     ]
    }
   ],
   "source": [
    "bool_list = [True, True, None, False]\n",
    "tuple_list = [(i, x) for i, x in enumerate(bool_list)]\n",
    "\n",
    "print(f\"bool_list: {bool_list}\")\n",
    "print(f\"tuple_list: {tuple_list}\")"
   ],
   "metadata": {
    "collapsed": false,
    "ExecuteTime": {
     "end_time": "2024-02-06T11:09:52.183583Z",
     "start_time": "2024-02-06T11:09:52.171998Z"
    }
   },
   "execution_count": 46
  },
  {
   "cell_type": "markdown",
   "source": [
    "10. Створіть словник, де ключі - назви книжок, а значення - їхня кількість у наявності в Вашій міні-бібліотеці. Бібліотека має містити щонайменше 6 книжок (6 пар значень у словнику) і щонайбільше 10 (пар значень). Використовуючи цикли, оновіть словник (не створюйте новий) так, щоби кількість книг у наявності збільшилося на 5 кожної книги. Наприклад,\n",
    "{'It': 3, 'Fault stars': 10, 'Bible': 17, 'Psychological romance': 4, 'Harry Potter': 13} -> {'It': 8, 'Fault stars': 15, 'Bible': 22, 'Psychological romance': 9, 'Harry Potter': 18}"
   ],
   "metadata": {
    "id": "-6XUqlcG7zKs"
   }
  },
  {
   "cell_type": "code",
   "source": [
    "book_library = {\n",
    "    'It': 3, \n",
    "    'Fault stars': 10, \n",
    "    'Bible': 17, \n",
    "    'Psychological romance': 4, \n",
    "    'Harry Potter': 13,\n",
    "    'My Secret Sister': 14,\n",
    "    'Jungle Book': 5, \n",
    "    'Moby-Dick': 11\n",
    "}\n",
    "\n",
    "print(f\"book_library initial: {book_library}\")\n",
    "\n",
    "for key, value in book_library.items():\n",
    "    book_library[key] = value + 5\n",
    "    \n",
    "print(f\"book_library: {book_library}\")"
   ],
   "metadata": {
    "id": "Ceoj9wwb791q",
    "ExecuteTime": {
     "end_time": "2024-02-06T11:09:59.545911Z",
     "start_time": "2024-02-06T11:09:59.525689Z"
    }
   },
   "execution_count": 47,
   "outputs": [
    {
     "name": "stdout",
     "output_type": "stream",
     "text": [
      "book_library initial: {'It': 3, 'Fault stars': 10, 'Bible': 17, 'Psychological romance': 4, 'Harry Potter': 13, 'My Secret Sister': 14, 'Jungle Book': 5, 'Moby-Dick': 11}\n",
      "book_library: {'It': 8, 'Fault stars': 15, 'Bible': 22, 'Psychological romance': 9, 'Harry Potter': 18, 'My Secret Sister': 19, 'Jungle Book': 10, 'Moby-Dick': 16}\n"
     ]
    }
   ]
  },
  {
   "cell_type": "markdown",
   "source": [
    "11. Визначте цілочислену змінну n, що належить проміжку від 4 до 10 включно. Використовуючи цикли, виведіть в консоль наступний патерн.\n",
    "\n",
    "#\n",
    "##\n",
    "###\n",
    "####\n",
    "\n",
    "... #*n\n"
   ],
   "metadata": {
    "id": "QLzyJM288AC7"
   }
  },
  {
   "cell_type": "code",
   "source": [
    "n = 8\n",
    "\n",
    "for i in range(n):\n",
    "    print('#' * (i + 1))\n",
    "    \n",
    "# For nice symetric pyramid with n layers\n",
    "# for i in range(n):\n",
    "#     spaces = ' ' * (n - (i + 1))\n",
    "#     hashes = '#' * ((i + 1) * 2 - 1)\n",
    "#     print(spaces + hashes)"
   ],
   "metadata": {
    "id": "KOpng87s8Duz",
    "ExecuteTime": {
     "end_time": "2024-02-06T10:59:40.925656Z",
     "start_time": "2024-02-06T10:59:40.918151Z"
    }
   },
   "execution_count": 41,
   "outputs": [
    {
     "name": "stdout",
     "output_type": "stream",
     "text": [
      "#\n",
      "##\n",
      "###\n",
      "####\n",
      "#####\n",
      "######\n",
      "#######\n",
      "########\n"
     ]
    }
   ]
  },
  {
   "cell_type": "markdown",
   "source": [
    "12. Гра \"Нумо вгадай\".\n",
    "Розробіть просту гру, де користувач має вгадати випадкове число від 1 до 100. Для генерації випадкового числа використовуйте функцію random.randint(a, b) (тут a та b включно). Для отримання числа з консолі використовуйте функцію input(), результат якої обовʼязково явно приведіть до типу int.\n",
    "\n",
    "Підказка: використовуйте цикл while та умови if-else, щоб повідомити користувачу піказки (напр. \"Більше\", \"Менше\") поки користувач не вгадає. По завершенню виведіть кількість спроб, які знадобилися для вгадування."
   ],
   "metadata": {
    "id": "_bd-bqAT8EHn"
   }
  },
  {
   "cell_type": "code",
   "source": [
    "import random\n",
    "\n",
    "lucky_number = random.randint(1, 100)\n",
    "guessed_number = -1\n",
    "attempts = 0\n",
    "\n",
    "print(f\"Guess Lucky Number\")\n",
    "\n",
    "while guessed_number != lucky_number:\n",
    "    guessed_number = int(input(\"Guess a number between 1 and 100: \"))\n",
    "    attempts += 1\n",
    "    if guessed_number < lucky_number:\n",
    "        print(\"More!\")\n",
    "    elif guessed_number > lucky_number:\n",
    "        print(\"Less!\")\n",
    "    else:\n",
    "        print(f\"Woo, congrats! You guessed number {lucky_number} in {attempts} attempts.\")\n",
    "        break\n",
    "    "
   ],
   "metadata": {
    "id": "IK9nnxFK8Hkl",
    "ExecuteTime": {
     "end_time": "2024-02-06T11:06:40.967696Z",
     "start_time": "2024-02-06T11:06:32.888465Z"
    }
   },
   "execution_count": 43,
   "outputs": [
    {
     "name": "stdout",
     "output_type": "stream",
     "text": [
      "Guess Lucky Number\n",
      "48\n",
      "More!\n",
      "Woo, congrats! You guessed number 48 in 2 attempts.\n"
     ]
    }
   ]
  },
  {
   "cell_type": "markdown",
   "source": [
    "# Вітаю! Ви велика(ий) молодець, що впоралась(вся). Похваліть себе та побалуйте чимось приємним. Я Вами пишаюся."
   ],
   "metadata": {
    "id": "PXoXWb7Z8IGi"
   }
  }
 ]
}
