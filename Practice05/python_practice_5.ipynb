{
 "nbformat": 4,
 "nbformat_minor": 0,
 "metadata": {
  "colab": {
   "provenance": []
  },
  "kernelspec": {
   "name": "python3",
   "language": "python",
   "display_name": "Python 3 (ipykernel)"
  },
  "language_info": {
   "name": "python"
  }
 },
 "cells": [
  {
   "cell_type": "markdown",
   "source": [
    "# I. OOP"
   ],
   "metadata": {
    "id": "5qV_sehzFCTp"
   }
  },
  {
   "cell_type": "markdown",
   "source": [
    "1. (6б). Створіть клас Animal, додайте три атрибути, один з яких має значення за замовчуванням та два методи на свій розсуд."
   ],
   "metadata": {
    "id": "tx_U_hOALyfg"
   }
  },
  {
   "cell_type": "code",
   "source": [
    "import math\n",
    "\n",
    "\n",
    "class Animal:\n",
    "    def __init__(self, name, species, population=-1):\n",
    "        self.name = name\n",
    "        self.species = species\n",
    "        self.population = population\n",
    "\n",
    "    def check_extinction(self):\n",
    "        if self.population == 0:\n",
    "            print(f\"{self.species} is likely to be in extinction.\")\n",
    "        elif self.population == -1:\n",
    "            print(f\"Information about {self.species} count is missing.\")\n",
    "        elif self.population == 1:\n",
    "            print(f\"{self.name} is likely to be the last {self.species} in existence.\")\n",
    "        else:\n",
    "            print(f\"{self.name} is one of the {self.population} for {self.species} species.\")\n",
    "\n",
    "    def __str__(self):\n",
    "        return f\"Animal {{\\n  \\\"name\\\": {self.name}\\n  \\\"spicies\\\": {self.species}\\n  \\\"population\\\": {\"N/A\" if self.population == -1 else self.population}\\n}}\"\n",
    "\n",
    "dog = Animal(\"Buddy\", \"Dog\", 150000)\n",
    "\n",
    "print(dog)\n",
    "dog.check_extinction()\n"
   ],
   "metadata": {
    "id": "-Vf895KaL88N",
    "ExecuteTime": {
     "end_time": "2024-02-19T17:44:58.790530Z",
     "start_time": "2024-02-19T17:44:58.785447Z"
    }
   },
   "execution_count": 6,
   "outputs": []
  },
  {
   "cell_type": "markdown",
   "source": [
    "2. (2б). Створіть два обʼєкти цього класу, де один з обʼєктів створюється із дефолтним значенням атрибуту. На одному обʼєкті отримайте значення його атрибуту, а на іншому викличте один з його методів."
   ],
   "metadata": {
    "id": "X_UlOMB0L93w"
   }
  },
  {
   "cell_type": "code",
   "source": [
    "dinasour = Animal(\"Rex\", \"Dinasour\", 0)\n",
    "whale = Animal(\"Moby-Dick\", \"Whale\")\n",
    "\n",
    "whale_population = whale.population\n",
    "print(f\"Population property value for {whale.name} is {whale_population}\")\n",
    "\n",
    "dinasour.check_extinction()"
   ],
   "metadata": {
    "id": "7gBu0ESOMCpG",
    "ExecuteTime": {
     "end_time": "2024-02-19T23:41:25.072241Z",
     "start_time": "2024-02-19T23:41:25.067734Z"
    }
   },
   "execution_count": 7,
   "outputs": [
    {
     "name": "stdout",
     "output_type": "stream",
     "text": [
      "Population property value for Moby-Dick is -1\n",
      "Dinasour is likely to be in extinction.\n"
     ]
    }
   ]
  },
  {
   "cell_type": "markdown",
   "source": [
    "3. (5б). Створіть клас, де атрибути мають різні рівні доступу. Спробуйте отримати їхні значення та опишіть результати."
   ],
   "metadata": {
    "id": "HoqSCZt1MHn5"
   }
  },
  {
   "cell_type": "code",
   "source": [
    "class Auth:\n",
    "    def __init__(self, email, username, password):\n",
    "        self.email = email\n",
    "        self._username = username\n",
    "        self.__password = password\n",
    "        \n",
    "    def get_password(self):\n",
    "        return self.__password\n",
    "        \n",
    "auth_data = Auth(\"somemail@gmail.com\", \"user01\", \"password01234\")\n",
    "print(f\"public property: {auth_data.email}\") # Access for reading is granted\n",
    "print(f\"protected property: {auth_data._username}\") # Access for reading is granted\n",
    "try:\n",
    "    print(f\"private property: {auth_data.__password}\") # Access for reading is not granted\n",
    "except Exception as error:\n",
    "    print(\"An exception occurred:\", error)\n",
    "    \n",
    "print(f\"private property using defined class function: {auth_data.get_password()}\") # Access for reading is granted\n"
   ],
   "metadata": {
    "id": "r9b3vJxBMSPV",
    "ExecuteTime": {
     "end_time": "2024-02-19T23:55:03.778026Z",
     "start_time": "2024-02-19T23:55:03.752094Z"
    }
   },
   "execution_count": 12,
   "outputs": [
    {
     "name": "stdout",
     "output_type": "stream",
     "text": [
      "public property: somemail@gmail.com\n",
      "protected property: user01\n",
      "An exception occurred: 'Auth' object has no attribute '__password'\n",
      "private property using defined class function: password01234\n"
     ]
    }
   ]
  },
  {
   "cell_type": "markdown",
   "source": [
    "4. (7б). Як ви розумієте термін self? Для чого використовується метод __init __?"
   ],
   "metadata": {
    "id": "5op2m2vgMSkZ"
   }
  },
  {
   "cell_type": "markdown",
   "source": [
    "Self – вказівка на конкретний екземпляр класу, що вказує на поточний об‘єкт.\n",
    "__init__ – конструктор кдасу, метод визначений в класі для ініціалізації його атрибутів. Self є дефолтним параметром для конструктору класу, вказуючи на конкретний об‘єкт класу для ініціалізації. "
   ],
   "metadata": {
    "id": "DyiPqNRvMasx"
   }
  },
  {
   "cell_type": "markdown",
   "source": [
    "5. (9б). Створіть клас Фігура без атрибутів, з методом get_area для отримання площі фігури, що повертає 0 та __add __, який приймає self та other в якості аргументів, а повертає суму площин фігур self та other."
   ],
   "metadata": {
    "id": "-6X8EGfjMd2y"
   }
  },
  {
   "cell_type": "code",
   "source": [
    "class Shape:\n",
    "    def get_area(self):\n",
    "        return 0\n",
    "    \n",
    "    def __add__(self, other):\n",
    "        return self.get_area() + other.get_area()\n",
    "    \n",
    "shape1 = Shape()\n",
    "shape2 = Shape()\n",
    "\n",
    "total_shape_area = shape1 + shape2\n",
    "print(\"Sum of shapes' areas:\", total_shape_area)\n",
    "        "
   ],
   "metadata": {
    "id": "4rvO_wYUMaEr",
    "ExecuteTime": {
     "end_time": "2024-02-20T00:04:07.787326Z",
     "start_time": "2024-02-20T00:04:07.775658Z"
    }
   },
   "execution_count": 15,
   "outputs": [
    {
     "name": "stdout",
     "output_type": "stream",
     "text": [
      "Sum of shapes' areas: 0\n"
     ]
    }
   ]
  },
  {
   "cell_type": "markdown",
   "source": [
    "6. (11б). Створіть 2 дочірніх класи від Фігури: Трикутник та Коло, які мають атрибути, необхідні для розрахунку площин. Визначте метод get_area в кожному з них так, щоби вони розраховували площу в залежності від формули для кожного типу фігури. Створіть обʼєкт класу Трикутник та обʼєкт класу Коло. Виконайте операцію суми за допомогою оператора + між ними."
   ],
   "metadata": {
    "id": "SFcKnnv5Mo_z"
   }
  },
  {
   "cell_type": "code",
   "source": [
    "import math\n",
    "\n",
    "class Triangle(Shape):\n",
    "    def __init__(self, base, height):\n",
    "        self._base = base\n",
    "        self._height = height\n",
    "\n",
    "    def get_area(self):\n",
    "        return self._base * self._height * 0.5\n",
    "\n",
    "class Circle(Shape):\n",
    "    def __init__(self, radius):\n",
    "        self._radius = radius\n",
    "        \n",
    "    def get_area(self):\n",
    "        return round(math.pi * (self._radius ** 2), 1)\n",
    "    \n",
    "triangle = Triangle(base=12,height=8)\n",
    "circle = Circle(radius=4)\n",
    "\n",
    "print(f\"Triangle area: {triangle.get_area()}\")\n",
    "print(f\"Circle area: {circle.get_area()}\")\n",
    "\n",
    "total_shape_area = triangle + circle\n",
    "print(\"Sum of shapes' areas:\", total_shape_area)"
   ],
   "metadata": {
    "id": "H3GVNr69Muf3",
    "ExecuteTime": {
     "end_time": "2024-02-20T00:15:58.260876Z",
     "start_time": "2024-02-20T00:15:58.257215Z"
    }
   },
   "execution_count": 19,
   "outputs": [
    {
     "name": "stdout",
     "output_type": "stream",
     "text": [
      "Triangle area: 48.0\n",
      "Circle area: 50.3\n",
      "Sum of shapes' areas: 98.3\n"
     ]
    }
   ]
  },
  {
   "cell_type": "markdown",
   "source": [
    "7. (3б). Продемонструйте різницю між isinstance та issubclass."
   ],
   "metadata": {
    "id": "HCvR206YMvLK"
   }
  },
  {
   "cell_type": "code",
   "source": [
    "class Pen:\n",
    "    def __init__(self):\n",
    "        self._color = \"red\"\n",
    "        \n",
    "pen = Pen()        \n",
    "\n",
    "print(f\"triangle is instance of class Triangle: {isinstance(triangle, Triangle)}\") # triancle is instance of class Triangle\n",
    "print(f\"triangle is instance of class Shape: {isinstance(triangle, Shape)}\") # triancle is instance of class Triangle, which is subclass of Shape\n",
    "print(f\"pen is instance of class Pen: {isinstance(pen, Pen)}\") # pen is instance of class Pen\n",
    "print(f\"pen is instance of class Shape: {isinstance(pen, Shape)}\") # pen is instance of class Pen, but not Shape\n",
    "\n",
    "print(f\"\\nTriangle is subclass of Pen: {issubclass(Triangle, Pen)}\") # Triangle is not subclass of Pen, but it's for Shape\n",
    "print(f\"Triangle is subclass of Shape: {issubclass(Triangle, Shape)}\") # Triangle is not subclass of Pen, but it's for Shape\n"
   ],
   "metadata": {
    "id": "L_V1bBvDM0GN",
    "ExecuteTime": {
     "end_time": "2024-02-20T00:21:55.970837Z",
     "start_time": "2024-02-20T00:21:55.951931Z"
    }
   },
   "execution_count": 23,
   "outputs": [
    {
     "name": "stdout",
     "output_type": "stream",
     "text": [
      "triangle is instance of class Triangle: True\n",
      "triangle is instance of class Shape: True\n",
      "pen is instance of class Pen: True\n",
      "pen is instance of class Shape: False\n",
      "\n",
      "Triangle is subclass of Pen: False\n",
      "Triangle is subclass of Shape: True\n"
     ]
    }
   ]
  },
  {
   "cell_type": "markdown",
   "source": [
    "8. (13б). Створіть клас BankAccount з приватними атрибутами balance та account_number. Реалізуйте методи поповнення та зняття коштів, забезпечивши належну інкапсуляцію. Підказка: використовуйте декоратори property та setter."
   ],
   "metadata": {
    "id": "jjsaBZ-iM0Qq"
   }
  },
  {
   "cell_type": "code",
   "source": [
    "class BankAccount:\n",
    "    __balance = None\n",
    "    __account_number = None\n",
    "    \n",
    "    def __init__(self, account_number, balance=0):\n",
    "        self.__balance = balance\n",
    "        self.__account_number = account_number\n",
    "        \n",
    "    def __str__(self):\n",
    "        return f\"BankAccount {{\\n  \\\"account_number\\\": {self.account_number}\\n  \\\"balance\\\": {self.balance}\\n}}\"\n",
    "        \n",
    "    @property\n",
    "    def balance(self):\n",
    "        return self.__balance\n",
    "\n",
    "    @property\n",
    "    def account_number(self):\n",
    "        return self.__account_number\n",
    "    \n",
    "    @balance.setter\n",
    "    def balance(self, new_balance):\n",
    "        if new_balance >= 0:\n",
    "            self.__balance = new_balance\n",
    "        else:\n",
    "            print(\"Error while setting new balance: the amount cannot be negative\")\n",
    "            \n",
    "    def deposit(self, amount):\n",
    "        if amount > 0:\n",
    "            self.__balance += amount\n",
    "        else:\n",
    "            print(\"Error while depositing new balance: the amount cannot be negative\")\n",
    "\n",
    "    def withdraw(self, amount):\n",
    "        if 0 < amount <= self.__balance:\n",
    "            self.__balance -= amount\n",
    "        else:\n",
    "            print(\"Error while withdrawing new balance: the amount cannot be negative\")\n",
    "\n",
    "account = BankAccount(account_number=\"1222343456567878\")\n",
    "account.balance = 150000\n",
    "print(account)\n",
    "\n",
    "account.deposit(30000)\n",
    "print(account)\n",
    "\n",
    "account.withdraw(120000)\n",
    "print(account)\n"
   ],
   "metadata": {
    "id": "xCvZ7lh8M7YA",
    "ExecuteTime": {
     "end_time": "2024-02-20T00:37:26.924863Z",
     "start_time": "2024-02-20T00:37:26.916750Z"
    }
   },
   "execution_count": 28,
   "outputs": [
    {
     "name": "stdout",
     "output_type": "stream",
     "text": [
      "BankAccount {\n",
      "  \"account_number\": 1222343456567878\n",
      "  \"balance\": 150000\n",
      "}\n",
      "BankAccount {\n",
      "  \"account_number\": 1222343456567878\n",
      "  \"balance\": 180000\n",
      "}\n",
      "BankAccount {\n",
      "  \"account_number\": 1222343456567878\n",
      "  \"balance\": 60000\n",
      "}\n"
     ]
    }
   ]
  },
  {
   "cell_type": "markdown",
   "source": [
    "9. (11б). Створіть клас Library, який містить список об'єктів типу Book. Реалізуйте методи для додавання книги, видалення книги та відображення списку книг."
   ],
   "metadata": {
    "id": "tIzL2SJTM8ft"
   }
  },
  {
   "cell_type": "code",
   "source": [
    "class Book:\n",
    "    def __init__(self, author, title):\n",
    "        self.title = title\n",
    "        self.author = author\n",
    "        \n",
    "class Library:\n",
    "    def __init__(self):\n",
    "        self.books = []\n",
    "\n",
    "    def add_book(self, book):\n",
    "        self.books.append(book)\n",
    "        print(f\"'{book.title}' was added successfully\")\n",
    "\n",
    "    def remove_book(self, book_title):\n",
    "        if not book_title:\n",
    "            print(\"Please provide a valid book title.\")\n",
    "            return\n",
    "    \n",
    "        for book in self.books:\n",
    "            if book.title == book_title:\n",
    "                self.books.remove(book)\n",
    "                print(f\"'{book.title}' was deleted successfully\")\n",
    "                return\n",
    "\n",
    "\n",
    "    def __str__(self):\n",
    "        output = f\"Library {{\"\n",
    "        if self.books:\n",
    "            output += \"\\n  \\\"status: Books were found\"\n",
    "            for i, book in enumerate(self.books, start=1):\n",
    "                output += f\"\\n  \\\"{i}\\\". '{book.title}', {book.author}\"\n",
    "        else:\n",
    "            output += \"\\n   \\\"status\\\": No books found\"\n",
    "        output += f\"\\n}}\"\n",
    "        return output\n",
    "        \n",
    "library = Library()\n",
    "library.add_book(Book(\"Andrii\", \"Some book\"))\n",
    "library.add_book(Book(\"Author\", \"Some book01\"))\n",
    "\n",
    "print(library)\n",
    "\n",
    "library.remove_book(\"\")\n",
    "library.remove_book(\"Some book01\")\n",
    "print(library)\n",
    "\n",
    "library.remove_book(\"Some book\")\n",
    "print(library)"
   ],
   "metadata": {
    "id": "HWxfJKLtNAUZ",
    "ExecuteTime": {
     "end_time": "2024-02-20T00:57:35.151636Z",
     "start_time": "2024-02-20T00:57:35.141673Z"
    }
   },
   "execution_count": 47,
   "outputs": [
    {
     "name": "stdout",
     "output_type": "stream",
     "text": [
      "'Some book' was added successfully\n",
      "'Some book01' was added successfully\n",
      "Library {\n",
      "  \"status: Books were found\n",
      "  \"1\". 'Some book', Andrii\n",
      "  \"2\". 'Some book01', Author\n",
      "}\n",
      "Please provide a valid book title.\n",
      "'Some book01' was deleted successfully\n",
      "Library {\n",
      "  \"status: Books were found\n",
      "  \"1\". 'Some book', Andrii\n",
      "}\n",
      "'Some book' was deleted successfully\n",
      "Library {\n",
      "   \"status\": No books found\n",
      "}\n"
     ]
    }
   ]
  },
  {
   "cell_type": "markdown",
   "source": [
    "10. (13б). Створіть клас Person з атрибутами name та age. Створіть ще один клас Employee з такими атрибутами, як department та salary. Створіть клас Manager, який успадковує обидва класи Person та Employee. Продемонструйте використання множинної спадковості, створивши обʼєкт класу Manager та отримавши mro для цього класу."
   ],
   "metadata": {
    "id": "lmV8pAwwNIqu"
   }
  },
  {
   "cell_type": "code",
   "source": [
    "class Person:\n",
    "    def __init__(self, name, age):\n",
    "        self.name = name\n",
    "        self.age = age\n",
    "\n",
    "class Employee:\n",
    "    def __init__(self, department, salary):\n",
    "        self.department = department\n",
    "        self.salary = salary\n",
    "\n",
    "class Manager(Person, Employee):\n",
    "    def __init__(self, name, age, department, salary):\n",
    "        Person.__init__(self, name, age)\n",
    "        Employee.__init__(self, department, salary)\n",
    "\n",
    "manager = Manager(\"Andrii\", 19, \"IT\", 5000)\n",
    "\n",
    "print(f\"Method Resolution Order for Manager: {Manager.__mro__}\")\n"
   ],
   "metadata": {
    "id": "R49grKlWNPeN",
    "ExecuteTime": {
     "end_time": "2024-02-20T01:01:28.798579Z",
     "start_time": "2024-02-20T01:01:28.778959Z"
    }
   },
   "execution_count": 49,
   "outputs": [
    {
     "name": "stdout",
     "output_type": "stream",
     "text": [
      "Method Resolution Order for Manager: (<class '__main__.Manager'>, <class '__main__.Person'>, <class '__main__.Employee'>, <class 'object'>)\n"
     ]
    }
   ]
  },
  {
   "cell_type": "markdown",
   "source": [
    "# II. Iterator"
   ],
   "metadata": {
    "id": "dIJyUiNBFG8G"
   }
  },
  {
   "cell_type": "markdown",
   "source": [
    "11. (4б). Визначте рядок(str) з 4ма різними за значенням символами. Створіть ітератор на основі цього рядка. Викличте 5 разів функцію next на ітераторі, 4ри перших з них огорніть у ф-цію print()."
   ],
   "metadata": {
    "id": "13vsm0NyKIzL"
   }
  },
  {
   "cell_type": "code",
   "source": [
    "my_str = \"qwer\"\n",
    "iterator = iter(my_str)\n",
    "\n",
    "print(next(iterator))\n",
    "print(next(iterator))\n",
    "print(next(iterator))\n",
    "print(next(iterator))\n",
    "next(iterator)"
   ],
   "metadata": {
    "id": "81ntabAkKuz-",
    "ExecuteTime": {
     "end_time": "2024-02-20T01:04:04.657459Z",
     "start_time": "2024-02-20T01:04:04.644336Z"
    }
   },
   "execution_count": 51,
   "outputs": [
    {
     "name": "stdout",
     "output_type": "stream",
     "text": [
      "q\n",
      "w\n",
      "e\n",
      "r\n"
     ]
    },
    {
     "ename": "StopIteration",
     "evalue": "",
     "output_type": "error",
     "traceback": [
      "\u001B[0;31m---------------------------------------------------------------------------\u001B[0m",
      "\u001B[0;31mStopIteration\u001B[0m                             Traceback (most recent call last)",
      "Cell \u001B[0;32mIn[51], line 8\u001B[0m\n\u001B[1;32m      6\u001B[0m \u001B[38;5;28mprint\u001B[39m(\u001B[38;5;28mnext\u001B[39m(myit))\n\u001B[1;32m      7\u001B[0m \u001B[38;5;28mprint\u001B[39m(\u001B[38;5;28mnext\u001B[39m(myit))\n\u001B[0;32m----> 8\u001B[0m \u001B[38;5;28;43mnext\u001B[39;49m\u001B[43m(\u001B[49m\u001B[43mmyit\u001B[49m\u001B[43m)\u001B[49m\n",
      "\u001B[0;31mStopIteration\u001B[0m: "
     ]
    }
   ]
  },
  {
   "cell_type": "markdown",
   "source": [
    "А що якщо викликати цю ж функцію на рядку?"
   ],
   "metadata": {
    "id": "aekWHGXOLRsO"
   }
  },
  {
   "cell_type": "code",
   "source": [
    "print(next(my_str)) # my_str is not iterator so it'll trigger error"
   ],
   "metadata": {
    "id": "mxATGsErLV1i",
    "ExecuteTime": {
     "end_time": "2024-02-20T01:05:32.045800Z",
     "start_time": "2024-02-20T01:05:32.031855Z"
    }
   },
   "execution_count": 53,
   "outputs": [
    {
     "ename": "NameError",
     "evalue": "name 'my_str' is not defined",
     "output_type": "error",
     "traceback": [
      "\u001B[0;31m---------------------------------------------------------------------------\u001B[0m",
      "\u001B[0;31mNameError\u001B[0m                                 Traceback (most recent call last)",
      "Cell \u001B[0;32mIn[53], line 1\u001B[0m\n\u001B[0;32m----> 1\u001B[0m \u001B[38;5;28mprint\u001B[39m(\u001B[38;5;28mnext\u001B[39m(\u001B[43mmy_str\u001B[49m))\n",
      "\u001B[0;31mNameError\u001B[0m: name 'my_str' is not defined"
     ]
    }
   ]
  },
  {
   "cell_type": "markdown",
   "source": [
    " 12. (5б). Опишіть своїми словами в одному реченні, як ви розумієте різницю між ітерабельними обʼєктами та ітераторами (можна на прикладі)."
   ],
   "metadata": {
    "id": "XwtMEopwJ4pH"
   }
  },
  {
   "cell_type": "markdown",
   "source": [
    "Ітерабельні об‘єкти – об‘єкти, з яких можна отримати ітератор, наприклад, список або рядок\n",
    "Ітератор – об‘єкт, який відповідає за послідовне отримання елементів ітерабельного об'єкта і зберігає свій стан між викликами next()\n",
    "\n",
    "Наприклад, string, через який можна пройтися за допомогою циклу for, є ітерабельним об'єктом, але не є ітератором, оскільки для отримання ітератора потрібно викликати функцію iter()."
   ],
   "metadata": {
    "id": "-sHrODc3KFn8"
   }
  },
  {
   "cell_type": "markdown",
   "source": [
    "13. (11б). Створіть клас, що має визначений Iterator Protocol та при кожному виклику next повертає літери англійської абетки, поки вони не вичерпаються."
   ],
   "metadata": {
    "id": "E9qJWmNbK8Gl"
   }
  },
  {
   "cell_type": "code",
   "source": [
    "class MyIterator:\n",
    "    def __init__(self):\n",
    "        self.current_char = ord('a')\n",
    "\n",
    "    def __iter__(self):\n",
    "        return self\n",
    "\n",
    "    def __next__(self):\n",
    "        if self.current_char > ord('z'):\n",
    "            raise StopIteration\n",
    "        else:\n",
    "            char = chr(self.current_char)\n",
    "            self.current_char += 1\n",
    "            return char\n",
    "\n",
    "iterator = MyIterator()\n",
    "\n",
    "for _ in range(26):\n",
    "    print(next(iterator))\n"
   ],
   "metadata": {
    "id": "cqx-g_RsLo6I",
    "ExecuteTime": {
     "end_time": "2024-02-20T01:10:09.734098Z",
     "start_time": "2024-02-20T01:10:09.717939Z"
    }
   },
   "execution_count": 54,
   "outputs": [
    {
     "name": "stdout",
     "output_type": "stream",
     "text": [
      "a\n",
      "b\n",
      "c\n",
      "d\n",
      "e\n",
      "f\n",
      "g\n",
      "h\n",
      "i\n",
      "j\n",
      "k\n",
      "l\n",
      "m\n",
      "n\n",
      "o\n",
      "p\n",
      "q\n",
      "r\n",
      "s\n",
      "t\n",
      "u\n",
      "v\n",
      "w\n",
      "x\n",
      "y\n",
      "z\n"
     ]
    }
   ]
  },
  {
   "cell_type": "markdown",
   "source": [
    "# Вітаю! Ви велика(ий) молодець, що впоралась(вся). Похваліть себе та побалуйте чимось приємним. Я Вами пишаюся."
   ],
   "metadata": {
    "id": "Z3E3S_s1Fv7-"
   }
  }
 ]
}
