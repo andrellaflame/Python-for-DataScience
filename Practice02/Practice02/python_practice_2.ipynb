{
 "nbformat": 4,
 "nbformat_minor": 0,
 "metadata": {
  "colab": {
   "provenance": []
  },
  "kernelspec": {
   "name": "python3",
   "language": "python",
   "display_name": "Python 3 (ipykernel)"
  },
  "language_info": {
   "name": "python"
  }
 },
 "cells": [
  {
   "cell_type": "markdown",
   "source": [
    "# I. Змінні та памʼять."
   ],
   "metadata": {
    "id": "p9wwt0LZzNvn"
   }
  },
  {
   "cell_type": "markdown",
   "source": [],
   "metadata": {
    "collapsed": false
   }
  },
  {
   "cell_type": "markdown",
   "source": [
    "1. Створити змінні, що посилаються на два цілих числа, що однакові за значенням, де значення належить проміжку від -5 до 256. Перевірте, чи будуть ці змінні рівні тільки за значенням або ж ще будуть посилатися на один і той самий обʼєкт в памʼяті? Наведіть код та дайте текстову відповідь нижче."
   ],
   "metadata": {
    "id": "HTJrrm95xSV9"
   }
  },
  {
   "cell_type": "markdown",
   "source": [],
   "metadata": {
    "collapsed": false
   }
  },
  {
   "cell_type": "code",
   "execution_count": 2,
   "metadata": {
    "id": "TATni2vzayjG",
    "ExecuteTime": {
     "end_time": "2024-02-05T17:05:35.244771Z",
     "start_time": "2024-02-05T17:05:35.230119Z"
    }
   },
   "outputs": [
    {
     "name": "stdout",
     "output_type": "stream",
     "text": [
      "a and b are the same by value: True, a and b are the same by reference: True\n"
     ]
    }
   ],
   "source": [
    "a = 12\n",
    "b = 12\n",
    "\n",
    "val = a == b\n",
    "ref = id(a) == id(b)\n",
    "\n",
    "print(f\"a and b are the same by value: {val}, a and b are the same by reference: {ref}\")"
   ]
  },
  {
   "cell_type": "markdown",
   "source": [
    "Так, значення будуть однакові, оскільки в Python цілі числа в діапазоні від -5 до 256 використовують один і той самий об'єкт в пам'яті"
   ],
   "metadata": {
    "id": "zfRG_o3WbRdg"
   }
  },
  {
   "cell_type": "markdown",
   "source": [
    "2. За допомогою якої функції можна перевірити належність змінної до вказаного типу даних (напр. чи змінна True посилається на значення булевого та цілочисленого типу)?"
   ],
   "metadata": {
    "id": "ISORzt6M3vAt"
   }
  },
  {
   "cell_type": "code",
   "source": [
    "boolVal = True\n",
    "print(isinstance(boolVal, bool))\n",
    "print(isinstance(boolVal, int)) # True 1 / False 0\n",
    "print(isinstance(boolVal, float))"
   ],
   "metadata": {
    "id": "9vL9CFaMbfyo",
    "ExecuteTime": {
     "end_time": "2024-02-05T17:09:36.740609Z",
     "start_time": "2024-02-05T17:09:36.727487Z"
    }
   },
   "execution_count": 5,
   "outputs": [
    {
     "name": "stdout",
     "output_type": "stream",
     "text": [
      "True\n",
      "True\n",
      "False\n"
     ]
    }
   ]
  },
  {
   "cell_type": "markdown",
   "source": [
    "# II. Цілі числа та числа з рухомою комою"
   ],
   "metadata": {
    "id": "tRxugKAxwYLw"
   }
  },
  {
   "cell_type": "markdown",
   "source": [
    "3. Створити дві змінні, що посилаються на будь-які ціле число та число з рухомою комою та продемонструвати такі арифметичні операції: додавання, віднімання, ділення, множення, ділення без залишку, ділення по модулю, приведення до ступеню. Всі результати операцій вивести на екран."
   ],
   "metadata": {
    "id": "NLHkgd5Gybc8"
   }
  },
  {
   "cell_type": "code",
   "source": [
    "a = 12.2\n",
    "b = 1.1\n",
    "\n",
    "print(f\"a ({a}) + b ({b}):                  {a + b}\")\n",
    "print(f\"a ({a}) - b ({b}):                  {a - b}\")\n",
    "print(f\"a ({a}) * b ({b}):                  {a * b}\")\n",
    "print(f\"a ({a}) / b ({b}):                  {a / b}\")\n",
    "print(f\"a ({a}) / b ({b}) with no reminder: {a // b}\")\n",
    "print(f\"a ({a}) % b ({b}):                  {a % b}\")\n",
    "print(f\"a ({a})^2:                          {a ** 2}\")"
   ],
   "metadata": {
    "id": "nb8u_3pjb2cA",
    "ExecuteTime": {
     "end_time": "2024-02-05T17:16:09.733437Z",
     "start_time": "2024-02-05T17:16:09.718958Z"
    }
   },
   "execution_count": 9,
   "outputs": [
    {
     "name": "stdout",
     "output_type": "stream",
     "text": [
      "a (12.2) + b (1.1):                  13.299999999999999\n",
      "a (12.2) - b (1.1):                  11.1\n",
      "a (12.2) * b (1.1):                  13.42\n",
      "a (12.2) / b (1.1):                  11.09090909090909\n",
      "a (12.2) / b (1.1) with no reminder: 11.0\n",
      "a (12.2) % b (1.1):                  0.09999999999999831\n",
      "a (12.2)^2:                          148.83999999999997\n"
     ]
    }
   ]
  },
  {
   "cell_type": "markdown",
   "source": [
    "4. Використовуючи змінні з вправи 3, продемонструйте механізм явного перетворення типів, де числа з рухомою комою перетворюються на цілі числа. Також визначте змінну, що посилається на значення булевого типу і спробуйте явно привести її до цілого числа."
   ],
   "metadata": {
    "id": "1kBClKgPzZnC"
   }
  },
  {
   "cell_type": "code",
   "source": [
    "print(f\"Initial value a: {a}\")\n",
    "print(f\"Initial value b: {b}\")\n",
    "\n",
    "int_a = int(a)\n",
    "int_b = int(b)\n",
    "\n",
    "print(f\"Int converted value a: {int_a}\")\n",
    "print(f\"Int converted value b: {int_b}\")\n",
    "\n",
    "int_boolVal = int(boolVal)\n",
    "\n",
    "print(f\"Initial value boolVal: {boolVal}\")\n",
    "print(f\"Int converted value boolVal: {int_boolVal}\")\n"
   ],
   "metadata": {
    "id": "TbqJbkeUcKsD",
    "ExecuteTime": {
     "end_time": "2024-02-05T17:20:27.121245Z",
     "start_time": "2024-02-05T17:20:27.112203Z"
    }
   },
   "execution_count": 12,
   "outputs": [
    {
     "name": "stdout",
     "output_type": "stream",
     "text": [
      "Initial value a:12.2\n",
      "Initial value b:1.1\n",
      "Int converted value a:12\n",
      "Int converted value b:1\n",
      "Initial value boolVal:True\n",
      "Int converted value boolVal:1\n"
     ]
    }
   ]
  },
  {
   "cell_type": "markdown",
   "source": [
    "# IІІ. Рядки (String)."
   ],
   "metadata": {
    "id": "EVJ7AflwxrZi"
   }
  },
  {
   "cell_type": "markdown",
   "source": [
    "5. Створити пустий рядок двома різними способами."
   ],
   "metadata": {
    "id": "_s5ECzz9zE61"
   }
  },
  {
   "cell_type": "code",
   "source": [
    "empty_str1 = \"\"\n",
    "empty_str2 = ''\n",
    "empty_str3 = str()\n",
    "\n",
    "print(f\"empty_str1: \\\"{empty_str1}\\\"\")\n",
    "print(f\"empty_str2: \\\"{empty_str2}\\\"\")\n",
    "print(f\"empty_str3: \\\"{empty_str3}\\\"\")"
   ],
   "metadata": {
    "id": "fkZJHu9Scvc-",
    "ExecuteTime": {
     "end_time": "2024-02-05T17:23:53.518968Z",
     "start_time": "2024-02-05T17:23:53.504031Z"
    }
   },
   "execution_count": 15,
   "outputs": [
    {
     "name": "stdout",
     "output_type": "stream",
     "text": [
      "empty_str1: \"\"\n",
      "empty_str2: \"\"\n",
      "empty_str3: \"\"\n"
     ]
    }
   ]
  },
  {
   "cell_type": "markdown",
   "source": [
    "6. Створити рядок з апострофом. Зробити його сирим. Вивести обидва рядка на екран."
   ],
   "metadata": {
    "id": "4Bdn9J3MzLf_"
   }
  },
  {
   "cell_type": "code",
   "source": [
    "apostrophe_str = 'Apostrophe is this symbol \\''\n",
    "print(apostrophe_str)\n",
    "\n",
    "raw_apostrophe_str = r'Apostrophe is this symbol \\' in raw string'\n",
    "print(raw_apostrophe_str)"
   ],
   "metadata": {
    "id": "ivji_hsmc0GH",
    "ExecuteTime": {
     "end_time": "2024-02-05T17:30:05.986986Z",
     "start_time": "2024-02-05T17:30:05.972107Z"
    }
   },
   "execution_count": 19,
   "outputs": [
    {
     "name": "stdout",
     "output_type": "stream",
     "text": [
      "Apostrophe is this symbol '\n",
      "Apostrophe is this symbol \\' in raw string\n"
     ]
    }
   ]
  },
  {
   "cell_type": "markdown",
   "source": [
    "7. Створити змінну, що буде посилатися на Ваше прізвище латинкою. Створити форматований рядок, який буде мати вигляд \"My surname is ______\", де на місці нижніх підкреслень буде Ваше прізвище зі змінної."
   ],
   "metadata": {
    "id": "bg_d8wM4z8dS"
   }
  },
  {
   "cell_type": "code",
   "source": [
    "last_name = \"Sulimenko\"\n",
    "print(f\"My surname is: {last_name}\")"
   ],
   "metadata": {
    "id": "kuxFgpWndACq",
    "ExecuteTime": {
     "end_time": "2024-02-05T17:31:23.757561Z",
     "start_time": "2024-02-05T17:31:23.744704Z"
    }
   },
   "execution_count": 20,
   "outputs": [
    {
     "name": "stdout",
     "output_type": "stream",
     "text": [
      "My surname is: Sulimenko\n"
     ]
    }
   ]
  },
  {
   "cell_type": "markdown",
   "source": [
    "8. Маючи рядок \"My dog is crazy.\" перетворити його на список [\"my\", \"dog\", \"is\", \"crazy\"]"
   ],
   "metadata": {
    "id": "1Nc6RqvQ0hxU"
   }
  },
  {
   "cell_type": "code",
   "source": [
    "temp_str = \"My dog is crazy.\"\n",
    "splitted_str = [word.rstrip('.') for word in temp_str.lower().split()]\n",
    "\n",
    "print(splitted_str)"
   ],
   "metadata": {
    "id": "w1Ya4RqedUhw",
    "ExecuteTime": {
     "end_time": "2024-02-05T17:36:23.920082Z",
     "start_time": "2024-02-05T17:36:23.897579Z"
    }
   },
   "execution_count": 27,
   "outputs": [
    {
     "name": "stdout",
     "output_type": "stream",
     "text": [
      "['my', 'dog', 'is', 'crazy']\n"
     ]
    }
   ]
  },
  {
   "cell_type": "markdown",
   "source": [
    "# IV. Робота зі списками."
   ],
   "metadata": {
    "id": "GYVqN9uP1D4n"
   }
  },
  {
   "cell_type": "markdown",
   "source": [
    "9. Створити список двома різними за синтаксисом способами. За допомогою вбудованої функції обчисліть довжину одного з них."
   ],
   "metadata": {
    "id": "7-DeDunw2sO-"
   }
  },
  {
   "cell_type": "code",
   "source": [
    "arr1 = [1, 2, 3]\n",
    "arr2 = list()\n",
    "\n",
    "print(f\"arr1 length is {len(arr1)}\")\n",
    "print(f\"arr2 length is {len(arr2)}\")\n"
   ],
   "metadata": {
    "id": "zxg06Uuxdyoh",
    "ExecuteTime": {
     "end_time": "2024-02-05T22:31:28.171512Z",
     "start_time": "2024-02-05T22:31:28.161878Z"
    }
   },
   "execution_count": 28,
   "outputs": [
    {
     "name": "stdout",
     "output_type": "stream",
     "text": [
      "arr1 length is 3\n",
      "arr2 length is 0\n"
     ]
    }
   ]
  },
  {
   "cell_type": "markdown",
   "source": [
    "10. Створіть два списка та за допомогою спеціального методу додайте другий з них в якості останнього елемента першого."
   ],
   "metadata": {
    "id": "8vmGUTjL22gI"
   }
  },
  {
   "cell_type": "code",
   "source": [
    "arr1 = [1, 2, 3]\n",
    "arr2 = [4, 5, 6]\n",
    "\n",
    "arr1.append(arr2)\n",
    "print(arr1)"
   ],
   "metadata": {
    "id": "uHtjWYw7d7hm",
    "ExecuteTime": {
     "end_time": "2024-02-05T22:34:24.279086Z",
     "start_time": "2024-02-05T22:34:24.269918Z"
    }
   },
   "execution_count": 34,
   "outputs": [
    {
     "name": "stdout",
     "output_type": "stream",
     "text": [
      "[1, 2, 3, [4, 5, 6]]\n"
     ]
    }
   ]
  },
  {
   "cell_type": "markdown",
   "source": [
    "11. Створіть список, де елементами цього списку також є списки. Отримай перший елемент з останнього рядка та виведи значення на екран."
   ],
   "metadata": {
    "id": "JC3BkD-67_--"
   }
  },
  {
   "cell_type": "code",
   "source": [
    "arr3 = [[1, 2, 3], [4, 5, 6], [7, 8, 9]]\n",
    "\n",
    "temp = arr3[-1][0]\n",
    "print(temp)"
   ],
   "metadata": {
    "id": "Kz2jZHsGeLlz",
    "ExecuteTime": {
     "end_time": "2024-02-05T22:35:56.442662Z",
     "start_time": "2024-02-05T22:35:56.423273Z"
    }
   },
   "execution_count": 35,
   "outputs": [
    {
     "name": "stdout",
     "output_type": "stream",
     "text": [
      "7\n"
     ]
    }
   ]
  },
  {
   "cell_type": "markdown",
   "source": [
    "12. Створіть список з десяти елементів різного типу. Отримайте всі елементи, окрім двох перших та двох останніх та збережіть їх в новій змінній."
   ],
   "metadata": {
    "id": "JA47PKTv8zFK"
   }
  },
  {
   "cell_type": "code",
   "source": [
    "dif_arr = ['Hello', 5.5, 1, True, None, 'World', ('!', 2), 12.2, False, 'mate']\n",
    "small_dif_arr = dif_arr[2: -2]\n",
    "\n",
    "print(dif_arr)\n",
    "print(small_dif_arr)"
   ],
   "metadata": {
    "id": "_rHdUR-ueP4-",
    "ExecuteTime": {
     "end_time": "2024-02-05T22:40:31.013860Z",
     "start_time": "2024-02-05T22:40:31.000229Z"
    }
   },
   "execution_count": 37,
   "outputs": [
    {
     "name": "stdout",
     "output_type": "stream",
     "text": [
      "['Hello', 5.5, 1, True, None, 'World', ('!', 2), 12.2, False, 'mate']\n",
      "[1, True, None, 'World', ('!', 2), 12.2]\n"
     ]
    }
   ]
  },
  {
   "cell_type": "markdown",
   "source": [
    "# V. Робота з кортежами."
   ],
   "metadata": {
    "id": "pCjR1dJb1Qbi"
   }
  },
  {
   "cell_type": "markdown",
   "source": [
    "14. Створити кортеж з один елементом."
   ],
   "metadata": {
    "id": "fAZCxAX06R_k"
   }
  },
  {
   "cell_type": "code",
   "source": [
    "tuple_1 = ('Hey')\n",
    "print(tuple_1)"
   ],
   "metadata": {
    "id": "H7d82WkQev3e",
    "ExecuteTime": {
     "end_time": "2024-02-05T22:41:57.569335Z",
     "start_time": "2024-02-05T22:41:57.551848Z"
    }
   },
   "execution_count": 38,
   "outputs": [
    {
     "name": "stdout",
     "output_type": "stream",
     "text": [
      "Hey\n"
     ]
    }
   ]
  },
  {
   "cell_type": "markdown",
   "source": [
    "15. Порівняйте список та кортеж. Назвіть схожості та відмінності, випадки використання."
   ],
   "metadata": {
    "id": "8LCtYcmI6w1M"
   }
  },
  {
   "cell_type": "markdown",
   "source": [
    "Стисок та кортеж обидва є структурами для зберігання даних.\n",
    "Схожості:\n",
    "- Впорядкована колекція\n",
    "- Можливість зберігати данні різних типів\n",
    "- Доступ до елементів за індексом, можливість зрізу колекції\n",
    "Відмінності:\n",
    "- Mutable/Immutable\n",
    "  - Кортеж є незмінним, а відповідно змінювати його елементи після створення не можна\n",
    "  - Список є змінним, тобто до нього можна додати елемети та змінювати їх\n",
    "- Синтаксис\n",
    "- Швидкодія (кортеж займає менше пам‘яті і може бути швидшим для деяких операцій через те, що є незмінним типом)\n",
    "\n",
    "Використання:\n",
    "- Список – необхідність зберігати об‘єкти невизначеної кількості, які також можливо треба змінювати\n",
    "- Кортеж – необхідність зберігати незмінювані об‘єкти визначеної кількості\n"
   ],
   "metadata": {
    "id": "fUsN1Hnue0C6"
   }
  },
  {
   "cell_type": "markdown",
   "source": [
    "16. Створіть кортеж з 11ти елементів чисел з рухомою комою та отримайте кожен парний за індексом елемент в зворотньому порядку. Наприклад, маючи (1.2, 2.3, 3.3, 4.3, 5.3, 6.3, 7.3, 8.3, 9.3, 0.3), отримати (0.3, 8.3, 6.3, 4.3, 2.3). Результат збережіть в нову змінну та виведіть на екран."
   ],
   "metadata": {
    "id": "m0xrwFijAmDD"
   }
  },
  {
   "cell_type": "code",
   "source": [
    "float_tuple = (1.2, 2.3, 3.3, 4.3, 5.3, 6.3, 7.3, 8.3, 9.3, 10.3, 0.3)\n",
    "# float_tuple = (1.2, 2.3, 3.3, 4.3, 5.3, 6.3, 7.3, 8.3, 9.3, 0.3)\n",
    "new_float_tuple = float_tuple[-1 : -len(float_tuple) : -2]\n",
    "\n",
    "print(f\"float_tuple length: {len(float_tuple)}\")\n",
    "print(new_float_tuple)"
   ],
   "metadata": {
    "id": "p-5DAH6XfAGA",
    "ExecuteTime": {
     "end_time": "2024-02-05T23:02:34.767789Z",
     "start_time": "2024-02-05T23:02:34.740160Z"
    }
   },
   "execution_count": 50,
   "outputs": [
    {
     "name": "stdout",
     "output_type": "stream",
     "text": [
      "float_tuple length: 11\n",
      "(0.3, 9.3, 7.3, 5.3, 3.3)\n"
     ]
    }
   ]
  },
  {
   "cell_type": "markdown",
   "source": [
    "# VI. Множини (Set)."
   ],
   "metadata": {
    "id": "rW_I9dt3x6cW"
   }
  },
  {
   "cell_type": "markdown",
   "source": [
    "17. Створити множину без елементів. Після цого за допомогою методу додайте кілька різних елементів до множини. Чи множини є змінним типом даних?"
   ],
   "metadata": {
    "id": "zNjRLHLw1Bgg"
   }
  },
  {
   "cell_type": "code",
   "source": [
    "fruit_set = set()\n",
    "\n",
    "print(f\"fruit_set length: {len(fruit_set)}\")\n",
    "\n",
    "fruit_set.add('apple')\n",
    "fruit_set.add('orange')\n",
    "fruit_set.add('pineapple')\n",
    "fruit_set.add('pear')\n",
    "\n",
    "print(f\"fruit_set length: {len(fruit_set)}\")\n"
   ],
   "metadata": {
    "id": "KOv7zc2Kfo4N",
    "ExecuteTime": {
     "end_time": "2024-02-05T23:05:26.686830Z",
     "start_time": "2024-02-05T23:05:26.684717Z"
    }
   },
   "execution_count": 51,
   "outputs": [
    {
     "name": "stdout",
     "output_type": "stream",
     "text": [
      "fruit_set length: 0\n",
      "fruit_set length: 4\n"
     ]
    }
   ]
  },
  {
   "cell_type": "markdown",
   "source": [
    "Так, множина є змінним типом, оскільки ми можемо змінювати кількість елементів, однак не самі елементи"
   ],
   "metadata": {
    "id": "vxS6dVYiftZQ"
   }
  },
  {
   "cell_type": "markdown",
   "source": [
    "18. Створити множину, маючи список my_list = [1, 1, 2, 67, 67, 8, 9]. Пояснити, чому \"зникли\" деякі елементи."
   ],
   "metadata": {
    "id": "gHpT0Zw_1HEF"
   }
  },
  {
   "cell_type": "code",
   "source": [
    "my_list = [1, 1, 2, 67, 67, 8, 9]\n",
    "\n",
    "print(f\"my_list: {my_list}\")\n",
    "\n",
    "my_set = set(my_list)\n",
    "print(f\"my_set: {my_set}\")\n"
   ],
   "metadata": {
    "id": "qCN4uvJ_fxmu",
    "ExecuteTime": {
     "end_time": "2024-02-05T23:07:11.896950Z",
     "start_time": "2024-02-05T23:07:11.873333Z"
    }
   },
   "execution_count": 52,
   "outputs": [
    {
     "name": "stdout",
     "output_type": "stream",
     "text": [
      "my_list: [1, 1, 2, 67, 67, 8, 9]\n",
      "my_set: {1, 2, 67, 8, 9}\n"
     ]
    }
   ]
  },
  {
   "cell_type": "markdown",
   "source": [
    "Елементи зникли через те, що множина зберігає лише унікальні елементи"
   ],
   "metadata": {
    "id": "tFNc1e20fyny"
   }
  },
  {
   "cell_type": "markdown",
   "source": [
    "19. Створіть дві множини. Продемонстуйте над ними операції: обʼєднання, різниці, пересічі та симетричної різниці. Використовуйте методи, що не змінюють множини, а створюють нові."
   ],
   "metadata": {
    "id": "SRMkGizS1UwY"
   }
  },
  {
   "cell_type": "code",
   "source": [
    "set1 = {1, 2, 67, 8, 9}\n",
    "set2 = {1, 4, 5, 67, 12, 8}\n",
    "\n",
    "print(f\"set1: {set1}\")\n",
    "print(f\"set2: {set2}\")\n",
    "\n",
    "print(f\"Union: {set1.union(set2)}\")\n",
    "print(f\"Intersection: {set1.intersection(set2)}\")\n",
    "print(f\"Difference: {set1.difference(set2)}\")\n",
    "print(f\"Symmetric difference: {set1.symmetric_difference(set2)}\")"
   ],
   "metadata": {
    "id": "h0T-VuDnf3Ri",
    "ExecuteTime": {
     "end_time": "2024-02-05T23:11:38.086701Z",
     "start_time": "2024-02-05T23:11:38.070629Z"
    }
   },
   "execution_count": 54,
   "outputs": [
    {
     "name": "stdout",
     "output_type": "stream",
     "text": [
      "set1: {1, 2, 67, 8, 9}\n",
      "set2: {1, 67, 4, 5, 8, 12}\n",
      "Union: {1, 2, 67, 4, 5, 8, 9, 12}\n",
      "Intersection: {8, 1, 67}\n",
      "Difference: {9, 2}\n",
      "Symmetric difference: {2, 4, 5, 9, 12}\n",
      "set1: {1, 2, 67, 8, 9}\n",
      "set2: {1, 67, 4, 5, 8, 12}\n"
     ]
    }
   ]
  },
  {
   "cell_type": "markdown",
   "source": [
    "# VII. Словники (Dictionary)."
   ],
   "metadata": {
    "id": "kWc8gkzTx7Ea"
   }
  },
  {
   "cell_type": "markdown",
   "source": [
    "20. Створіть пустий словник. До нього додайте чотири пари елементів такі, щоб їхні ключі були різних типів. Чи може список бути ключем? Чому?"
   ],
   "metadata": {
    "id": "i5FLwj-B2ybQ"
   }
  },
  {
   "cell_type": "code",
   "source": [
    "dict_1 = dict()\n",
    "print(f\"dict_1 length: {len(dict_1)}\")\n",
    "\n",
    "dict_1[\"key_1\"] = 12\n",
    "dict_1[\"key_2\"] = \"Cheeseburger\"\n",
    "dict_1[\"key_3\"] = True\n",
    "dict_1[(\"key_4\")] = [1.1, 2.1, 3.2]\n",
    "\n",
    "print(f\"dict_1 length: {len(dict_1)}\")\n",
    "print(f\"dict_1: {dict_1}\")\n"
   ],
   "metadata": {
    "id": "hxgv3BzrgLAV",
    "ExecuteTime": {
     "end_time": "2024-02-05T23:16:53.900128Z",
     "start_time": "2024-02-05T23:16:53.897826Z"
    }
   },
   "execution_count": 55,
   "outputs": [
    {
     "name": "stdout",
     "output_type": "stream",
     "text": [
      "dict_1 length: 0\n",
      "dict_1 length: 4\n",
      "dict_1: {'key_1': 12, 'key_2': 'Cheeseburger', 'key_3': 12.1, 'key_4': [1, 2, 3]}\n"
     ]
    }
   ]
  },
  {
   "cell_type": "markdown",
   "source": [
    "Ні, список не може бути ключем, оскільки для того, щоб множина мала унікальні елемети, вони повинні бути незмінюваними та хешованими, однак список не є таким, а відповідно і не може бути ключем. Однак схожу поведнку можна досягти, використовуючи кортеж в якості ключа"
   ],
   "metadata": {
    "id": "zwa7UVN-gR3m"
   }
  },
  {
   "cell_type": "markdown",
   "source": [
    "21. Створіть словник, де значенням в одній з пар теж буде словник, який теж має вкладений словник. Виведіть на екран значення, що міститься в словнику, що знаходиться на найнижчому рівні ієрархії вкладеності (найбільш внутрішній)."
   ],
   "metadata": {
    "id": "WM_pMlJsgoNf"
   }
  },
  {
   "cell_type": "code",
   "source": [
    "dict_2 = {\n",
    "    \"key_1\": 12,\n",
    "    \"key_2\": {\n",
    "        \"key_3\": None,\n",
    "        \"key_4\": {\n",
    "            \"key_5\": \"Woo, the most nested value is here!\",\n",
    "        }\n",
    "    }\n",
    "}\n",
    "\n",
    "print(f\"dict_2: {dict_2}\")\n",
    "print(f\"The most nested value: {dict_2['key_2']['key_4']['key_5']}\")"
   ],
   "metadata": {
    "id": "60dlP7IHhAy4",
    "ExecuteTime": {
     "end_time": "2024-02-05T23:33:16.092599Z",
     "start_time": "2024-02-05T23:33:16.086684Z"
    }
   },
   "execution_count": 59,
   "outputs": [
    {
     "name": "stdout",
     "output_type": "stream",
     "text": [
      "dict_2: {'key_1': 12, 'key_2': {'key_3': None, 'key_4': {'key_5': 'Woo, the most nested value is here!'}}}\n",
      "The most nested value: Woo, the most nested value is here!\n"
     ]
    }
   ]
  },
  {
   "cell_type": "markdown",
   "source": [
    "# Вітаю! Ви велика(ий) молодець, що впоралась(вся). Похваліть себе та побалуйте чимось приємним. Я Вами пишаюся."
   ],
   "metadata": {
    "id": "xOZP0hkx6cCr"
   }
  }
 ]
}
