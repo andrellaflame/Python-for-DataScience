{
 "nbformat": 4,
 "nbformat_minor": 0,
 "metadata": {
  "colab": {
   "provenance": []
  },
  "kernelspec": {
   "name": "python3",
   "language": "python",
   "display_name": "Python 3 (ipykernel)"
  },
  "language_info": {
   "name": "python"
  }
 },
 "cells": [
  {
   "cell_type": "markdown",
   "source": [
    "# I. Functions. Arguments."
   ],
   "metadata": {
    "id": "kXpppdVm6wFy"
   }
  },
  {
   "cell_type": "markdown",
   "source": [
    "1. (5б) Назвіть основні 4 смислові частини, з яких складається функція."
   ],
   "metadata": {
    "id": "u_krJdlbAkVz"
   }
  },
  {
   "cell_type": "markdown",
   "source": [
    "Функція в Python складається з 4 основних смислових частин\n",
    "- Заголовок, тобто декларація функції (def + ім‘я)\n",
    "- Тіло функції\n",
    "- Параметри, які вона приймає\n",
    "- Return value, тобто значення, яке вона повертає"
   ],
   "metadata": {
    "collapsed": false
   }
  },
  {
   "cell_type": "markdown",
   "source": [
    "2. (3б) Визначте функцію, що приймає 2 аргументи та повертає результат ділення 1го аргумента на інший."
   ],
   "metadata": {
    "id": "ORM4PqJQAtDM"
   }
  },
  {
   "cell_type": "code",
   "execution_count": 55,
   "metadata": {
    "id": "EuDx-z8M6sLo",
    "ExecuteTime": {
     "end_time": "2024-02-13T19:27:48.315218Z",
     "start_time": "2024-02-13T19:27:48.310672Z"
    }
   },
   "outputs": [
    {
     "name": "stdout",
     "output_type": "stream",
     "text": [
      "4.5\n",
      "Error: zero division\n"
     ]
    }
   ],
   "source": [
    "def devide_1_by_2(number1, number2):\n",
    "    if number2 == 0:\n",
    "        return \"Error: zero division\"\n",
    "    else:\n",
    "        return number1/number2\n",
    "\n",
    "print(devide_1_by_2(9, 2))\n",
    "print(devide_1_by_2(9, 0))"
   ]
  },
  {
   "cell_type": "markdown",
   "source": [
    "3. (2б) Викличте вище визначену функцію, де другий аргумент дорівнює 0."
   ],
   "metadata": {
    "id": "5joQGQ-SAyMe"
   }
  },
  {
   "cell_type": "code",
   "source": [
    "print(devide_1_by_2(9, 0))"
   ],
   "metadata": {
    "id": "V5cBV1LOA3d-",
    "ExecuteTime": {
     "end_time": "2024-02-13T19:27:51.181675Z",
     "start_time": "2024-02-13T19:27:51.147810Z"
    }
   },
   "execution_count": 56,
   "outputs": [
    {
     "name": "stdout",
     "output_type": "stream",
     "text": [
      "Error: zero division\n"
     ]
    }
   ]
  },
  {
   "cell_type": "markdown",
   "source": [
    "4. (4б) Перевизначте функцію так, щоби у випадку ділення на 0 функція повертала None, а в решті випадків - результат розрахунків."
   ],
   "metadata": {
    "id": "QyimWgW8A43-"
   }
  },
  {
   "cell_type": "code",
   "source": [
    "def devide_1_by_2(number1, number2):\n",
    "    if number2 == 0:\n",
    "        return None\n",
    "    else:\n",
    "        return number1/number2\n",
    "    \n",
    "print(devide_1_by_2(9, 0))\n",
    "print(devide_1_by_2(9, 2))"
   ],
   "metadata": {
    "id": "7VIODtSjA8Ek",
    "ExecuteTime": {
     "end_time": "2024-02-13T19:27:53.438789Z",
     "start_time": "2024-02-13T19:27:53.431447Z"
    }
   },
   "execution_count": 57,
   "outputs": [
    {
     "name": "stdout",
     "output_type": "stream",
     "text": [
      "None\n",
      "4.5\n"
     ]
    }
   ]
  },
  {
   "cell_type": "markdown",
   "source": [
    "5. (5б) Визначте функцію, що віднімає одне число від іншого (підказка: це буде 2 аргументи функції). При чому, якщо не визначити, скільки саме має бути віднято від числа, за замовчуванням має відніматися 1. Викличте функцію, передаючи тільки один аргумент."
   ],
   "metadata": {
    "id": "Y8mN0GfkA81l"
   }
  },
  {
   "cell_type": "code",
   "source": [
    "def subtract_numbers(number1, number2 = 1):\n",
    "    return number1 - number2\n",
    "\n",
    "print(f'One param function call: {subtract_numbers(5)}')\n",
    "print(f'Two params function call: {subtract_numbers(5, 3)}')"
   ],
   "metadata": {
    "id": "vg1kxkdgBA50",
    "ExecuteTime": {
     "end_time": "2024-02-13T19:27:55.649927Z",
     "start_time": "2024-02-13T19:27:55.642315Z"
    }
   },
   "execution_count": 58,
   "outputs": [
    {
     "name": "stdout",
     "output_type": "stream",
     "text": [
      "One param function call: 4\n",
      "Two params function call: 2\n"
     ]
    }
   ]
  },
  {
   "cell_type": "markdown",
   "source": [
    "6. (7б) Визначте функцію, яка приймає iterable (ітерабельний обʼєкт, напр. список), що складається з 7ми рядкових значень - назв погодних умов (напр. \"sunny\") за кожен день у тижні. Повертає функція словник, де ключами є рядки з погодними умовами, а значеннями - кількість разів, скільки дана погода була протягом тижня (напр. {'sunny': 1, ...}). Викличте цю функцію та виведіть результат її роботи на екран."
   ],
   "metadata": {
    "id": "D3mwQGNOBBs4"
   }
  },
  {
   "cell_type": "code",
   "source": [
    "def count_weather_days(week_weather):\n",
    "    weather_counts = dict()\n",
    "    for weather_condition in week_weather:\n",
    "        if weather_condition in weather_counts:\n",
    "            weather_counts[weather_condition] += 1\n",
    "        else:\n",
    "            weather_counts[weather_condition] = 1\n",
    "    return weather_counts\n",
    "\n",
    "weather = [\"sunny\",\"cloudy\", \"rainy\", \"sunny\", \"sunny\", \"cloudy\", \"rainy\"]\n",
    "\n",
    "weather_dict = count_weather_days(weather)\n",
    "print(weather_dict)\n"
   ],
   "metadata": {
    "id": "OsWm-hKcBFyn",
    "ExecuteTime": {
     "end_time": "2024-02-13T19:28:00.005246Z",
     "start_time": "2024-02-13T19:27:59.994750Z"
    }
   },
   "execution_count": 59,
   "outputs": [
    {
     "name": "stdout",
     "output_type": "stream",
     "text": [
      "{'sunny': 3, 'cloudy': 2, 'rainy': 2}\n"
     ]
    }
   ]
  },
  {
   "cell_type": "markdown",
   "source": [
    "7. (15б) Напишіть програму, яка б шукала необхідне число у впорядкованому списку цілочислених значень, де\n",
    "число має вводитись з консолі.\n",
    "власне алгоритм пошуку винесений в окрему функцію, яка повертає булеве значення (знайдено число - True, не знайдено - False).\n",
    "в залежності від результату функції, виведіть на екран повідомлення про успішний або ж неуспішний пошук.\n",
    "Зауваження: використовувати оператор in заборонено."
   ],
   "metadata": {
    "id": "RMiCcdOsBKQT"
   }
  },
  {
   "cell_type": "code",
   "source": [
    "\n",
    "def find_number(numbers_array, number_to_find) -> bool:\n",
    "    lv = 0\n",
    "    rv = len(numbers_array) - 1\n",
    "    \n",
    "    sorted_numbers = sorted(numbers_array)\n",
    "    while lv <= rv:\n",
    "        mv = (lv + rv) // 2\n",
    "        if sorted_numbers[mv] == number_to_find:\n",
    "            return True\n",
    "        elif sorted_numbers[mv] < number_to_find:\n",
    "            lv = mv + 1\n",
    "        else:\n",
    "            rv = mv - 1\n",
    "    return False\n",
    "\n",
    "numbers = list(range(1, 21))\n",
    "\n",
    "a = int(input(\"Let's play the game.\\nEnter the number: \"))\n",
    "\n",
    "if find_number(numbers, a):\n",
    "    print(\"Woo, number is found!\")\n",
    "else:\n",
    "    print(\"Uh oh, number wasn't found\")\n",
    "\n",
    "\n"
   ],
   "metadata": {
    "id": "UNCZg65OBOy-",
    "ExecuteTime": {
     "end_time": "2024-02-13T19:28:05.858922Z",
     "start_time": "2024-02-13T19:28:02.304656Z"
    }
   },
   "execution_count": 60,
   "outputs": [
    {
     "name": "stdout",
     "output_type": "stream",
     "text": [
      "Woo, number is found!\n"
     ]
    }
   ]
  },
  {
   "cell_type": "markdown",
   "source": [
    "# II. Lambda functions."
   ],
   "metadata": {
    "id": "Ae1n_OvLBTsy"
   }
  },
  {
   "cell_type": "markdown",
   "source": [
    "8. (4б) В яких випадках варто використовувати лямбда-функції?"
   ],
   "metadata": {
    "id": "xaD_wSlaCWen"
   }
  },
  {
   "cell_type": "markdown",
   "source": [
    "Лямбда-функції варто використовувати, коли потрібно створити функцію, що міститиме лише прості вирази, тобто вирази, які зазвичай складаються з одного рядка оператора"
   ],
   "metadata": {
    "id": "42MB6OoLCakR"
   }
  },
  {
   "cell_type": "markdown",
   "source": [
    "9. (9б) Визначте список з рядками. Після цього визначте анонімну функцію для отримання першого символу у верхньому регістрі для кожного рядка списку.\n",
    "Підказка: використовуйте анонімну функцію в якості агрумента до вбудованої ф-ції, яка створена для застосування функцій над iterable обʼєктами. Результат виведіть на екран у вигляді кортежу."
   ],
   "metadata": {
    "id": "USrzrk7GCedk"
   }
  },
  {
   "cell_type": "code",
   "source": [
    "objects = [\"pen\", \"headphones\", \"computer\", \"pencil\", \"notebook\"]\n",
    "\n",
    "def cappitalize_first(arr: [str]) -> tuple:\n",
    "    return tuple(map(lambda s: s[0].upper(), arr))\n",
    "\n",
    "print(f'First char uppercase for {weather}\\nResult: {cappitalize_first(weather)}')\n",
    "print(f'\\nFirst char uppercase for {objects}\\nResult: {cappitalize_first(objects)}')"
   ],
   "metadata": {
    "id": "M8QWUsMlCjWH",
    "ExecuteTime": {
     "end_time": "2024-02-13T19:28:08.790608Z",
     "start_time": "2024-02-13T19:28:08.785919Z"
    }
   },
   "execution_count": 61,
   "outputs": [
    {
     "name": "stdout",
     "output_type": "stream",
     "text": [
      "First char uppercase for ['sunny', 'cloudy', 'rainy', 'sunny', 'sunny', 'cloudy', 'rainy']\n",
      "Result: ('S', 'C', 'R', 'S', 'S', 'C', 'R')\n",
      "\n",
      "First char uppercase for ['pen', 'headphones', 'computer', 'pencil', 'notebook']\n",
      "Result: ('P', 'H', 'C', 'P', 'N')\n"
     ]
    }
   ]
  },
  {
   "cell_type": "markdown",
   "source": [
    "10. (10б) Визначте список з числовими значеннями (і цілими, і з рухомою комою). а) Відфільтруйте всі числа, які діляться націло на 3 за допомогою вбудованої функції та анонімної функції в якості аргумента). Збережіть результат у змінній, не приводяти явно до будь-якого типу. б) Використовуючи результат на кроці 12.а у якості аргументу, та за допомогою лямбда-функції в якості іншого аргументу до вбудованої функції, додайте до кожного елементу число 1 та опісля зведіть у квадрат. Остаточний результат приведіть явно до списку та виведіть на екран."
   ],
   "metadata": {
    "id": "9fyUhXOoCtGp"
   }
  },
  {
   "cell_type": "code",
   "source": [
    "mixed_numbers = [0.0, 1, 2, 2.3, 3, 4, 1.2, 5, 13.11, 6, 7, 9.99, 8, 9, 10, 12.0, 15.5, 15.0]\n",
    "\n",
    "filtered_numbers = filter(lambda  x: x % 3 == 0.0, mixed_numbers)\n",
    "changed_numbers = list(map(lambda x: float(pow(x + 1, 2)), filtered_numbers))\n",
    "\n",
    "print(f'Initial numbers: {mixed_numbers}')\n",
    "print(f'Modified numbers: {changed_numbers}')\n"
   ],
   "metadata": {
    "id": "exEx2_okCsql",
    "ExecuteTime": {
     "end_time": "2024-02-13T19:28:11.349741Z",
     "start_time": "2024-02-13T19:28:11.341003Z"
    }
   },
   "execution_count": 62,
   "outputs": [
    {
     "name": "stdout",
     "output_type": "stream",
     "text": [
      "Initial numbers: [0.0, 1, 2, 2.3, 3, 4, 1.2, 5, 13.11, 6, 7, 9.99, 8, 9, 10, 12.0, 15.5, 15.0]\n",
      "Modified numbers: [1.0, 16.0, 49.0, 100.0, 169.0, 256.0]\n"
     ]
    }
   ]
  },
  {
   "cell_type": "markdown",
   "source": [
    "# III. Decorators."
   ],
   "metadata": {
    "id": "o_x8cG_WC7jp"
   }
  },
  {
   "cell_type": "markdown",
   "source": [
    "11. (11б) Визначте декоратор, який би виводив у консоль повідомлення про початок роботи і назву функції (напр. my_function._ _ name _ _), а після відпрацювання функції - повідомлення про закінчення роботи і назву функції, що задекорована."
   ],
   "metadata": {
    "id": "mhxS4-mfC8LQ"
   }
  },
  {
   "cell_type": "code",
   "source": [
    "def declare_func_cycle(func):\n",
    "    def func_cycle_wrapper(*args, **kwargs):\n",
    "        print(f\"Function {func.__name__} called with args: {args}\")\n",
    "        result = func(*args, **kwargs)\n",
    "        print(f\"Function {func.__name__} finished execution\")\n",
    "        \n",
    "        return result\n",
    "    return func_cycle_wrapper\n",
    "\n",
    "@declare_func_cycle\n",
    "def example_function():\n",
    "    print(\"Hello, World!\")\n",
    "\n",
    "example_function()\n"
   ],
   "metadata": {
    "id": "srd1ygWjDGhO",
    "ExecuteTime": {
     "end_time": "2024-02-13T19:28:13.805688Z",
     "start_time": "2024-02-13T19:28:13.794230Z"
    }
   },
   "execution_count": 63,
   "outputs": [
    {
     "name": "stdout",
     "output_type": "stream",
     "text": [
      "Function example_function called with args: ()\n",
      "Hello, World!\n",
      "Function example_function finished execution\n"
     ]
    }
   ]
  },
  {
   "cell_type": "markdown",
   "source": [
    "12. (4б) Задекоруйте двома різними способами функції з завдання 4 та 5 декоратором із завдання 11. (**УВАГА**: не декоруйте функції двічі!)."
   ],
   "metadata": {
    "id": "rxGZwVBiDph3"
   }
  },
  {
   "cell_type": "code",
   "source": [
    "@declare_func_cycle\n",
    "def divide_1_by_2(a, b):\n",
    "    if b == 0:\n",
    "        return None\n",
    "    else:\n",
    "        return a / b\n",
    "\n",
    "print(divide_1_by_2(12, 3))\n",
    "\n",
    "decorated_subtract_numbers = declare_func_cycle(subtract_numbers)\n",
    "print(decorated_subtract_numbers(12))\n"
   ],
   "metadata": {
    "id": "06lj7eq_DwZe",
    "ExecuteTime": {
     "end_time": "2024-02-13T19:28:16.575957Z",
     "start_time": "2024-02-13T19:28:16.558588Z"
    }
   },
   "execution_count": 64,
   "outputs": [
    {
     "name": "stdout",
     "output_type": "stream",
     "text": [
      "Function divide_1_by_2 called with args: (12, 3)\n",
      "Function divide_1_by_2 finished execution\n",
      "4.0\n",
      "Function subtract_numbers called with args: (12,)\n",
      "Function subtract_numbers finished execution\n",
      "11\n"
     ]
    }
   ]
  },
  {
   "cell_type": "markdown",
   "source": [
    "13. (2б) Викличте одну з задекорованих функцій і виведіть її результат на екран."
   ],
   "metadata": {
    "id": "P0ep1urBDzf-"
   }
  },
  {
   "cell_type": "code",
   "source": [
    "print(divide_1_by_2(12, 3))"
   ],
   "metadata": {
    "id": "1QvTw0ctD0S3",
    "ExecuteTime": {
     "end_time": "2024-02-13T19:28:22.252824Z",
     "start_time": "2024-02-13T19:28:22.218723Z"
    }
   },
   "execution_count": 65,
   "outputs": [
    {
     "name": "stdout",
     "output_type": "stream",
     "text": [
      "Function divide_1_by_2 called with args: (12, 3)\n",
      "Function divide_1_by_2 finished execution\n",
      "4.0\n"
     ]
    }
   ]
  },
  {
   "cell_type": "markdown",
   "source": [
    "# IV. Recursion."
   ],
   "metadata": {
    "id": "poECCpuoD2S9"
   }
  },
  {
   "cell_type": "markdown",
   "source": [
    "14. (4б) Назвіть дві частини функції, які є обовʼязковими для того, щоб називати її рекурсивною."
   ],
   "metadata": {
    "id": "DqkURfdsD7MY"
   }
  },
  {
   "cell_type": "markdown",
   "source": [
    "Частини функції, які є обовʼязковими для того, щоб називати її рекурсивною:\n",
    "- Наступний крок рекурсії (виклик функції самої себе)\n",
    "- База рекурсії (базовий випадок, що вказує на умову завершення рекурсії)"
   ],
   "metadata": {
    "id": "HYW6ttIeIQIU"
   }
  },
  {
   "cell_type": "markdown",
   "source": [
    "15. (15б) Визначте функцію, яка рекурсивно реалізовує пошук числа у послідовності Фібоначчі за її індексом (нумерація починається з нуля). Наприклад, потрібно знайти перше число у послідовності, тоді функція прийматиме 0 у якості аргумента і повертатиме 1, якщо ж знаходити третє число (індекс 2) послідовності, то функція повертатиме 2, якщо ж знаходити десяте число (індекс 9), то функція повертатиме 55."
   ],
   "metadata": {
    "id": "WYVt20UmEA35"
   }
  },
  {
   "cell_type": "code",
   "source": [
    "def get_fibonacci(i):\n",
    "    if i < 0:\n",
    "        print(\"Invalid input\")\n",
    "    elif i == 0:\n",
    "        return 0\n",
    "    elif i == 1 or i == 2:\n",
    "        return 1\n",
    "    else:\n",
    "        return get_fibonacci(i - 1) + get_fibonacci(i - 2)\n",
    "    \n",
    "for index in list(range(1, 11)):\n",
    "    print(f'The fibonacci number for {index}th number is {get_fibonacci(index)}')\n"
   ],
   "metadata": {
    "id": "xIMhp05AIpV_",
    "ExecuteTime": {
     "end_time": "2024-02-13T19:28:25.359357Z",
     "start_time": "2024-02-13T19:28:25.347712Z"
    }
   },
   "execution_count": 66,
   "outputs": [
    {
     "name": "stdout",
     "output_type": "stream",
     "text": [
      "The fibonacci number for 1th number is 1\n",
      "The fibonacci number for 2th number is 1\n",
      "The fibonacci number for 3th number is 2\n",
      "The fibonacci number for 4th number is 3\n",
      "The fibonacci number for 5th number is 5\n",
      "The fibonacci number for 6th number is 8\n",
      "The fibonacci number for 7th number is 13\n",
      "The fibonacci number for 8th number is 21\n",
      "The fibonacci number for 9th number is 34\n",
      "The fibonacci number for 10th number is 55\n"
     ]
    }
   ]
  },
  {
   "cell_type": "markdown",
   "source": [
    "# Вітаю! Ви велика(ий) молодець, що впоралась(вся). Похваліть себе та побалуйте чимось приємним. Я Вами пишаюся."
   ],
   "metadata": {
    "id": "ytXC8n_4Ip0W"
   }
  }
 ]
}
